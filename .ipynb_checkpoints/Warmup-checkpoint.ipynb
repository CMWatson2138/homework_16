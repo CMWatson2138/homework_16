{
 "cells": [
  {
   "cell_type": "markdown",
   "metadata": {},
   "source": [
    "What is KNN? How does it work? How is it evaluated? Be concise. These are the kind of questions that are asked in data science interviews."
   ]
  },
  {
   "cell_type": "markdown",
   "metadata": {},
   "source": [
    "KNN stands for K nearest neighbors.  It is used to classify data points based upon the classification of those datapoints in the training set that are nearest to it.  The number of neighbors used in the classification is specified and can be changed in order to improve the accuracy score.  It is evaluated using the train_test_split model, where a portion of the information is used to train the model and then the remaining datasets are used to test the model.  The predicted y values are then compared to the actual y values to determine the accuracy score."
   ]
  },
  {
   "cell_type": "markdown",
   "metadata": {},
   "source": [
    "Write a lambda that takes the following list and returns only the odd values in it. [1,2,3,4,5,6,7,8,9,10]"
   ]
  },
  {
   "cell_type": "code",
   "execution_count": 1,
   "metadata": {},
   "outputs": [
    {
     "data": {
      "text/plain": [
       "[1, 3, 5, 7, 9]"
      ]
     },
     "execution_count": 1,
     "metadata": {},
     "output_type": "execute_result"
    }
   ],
   "source": [
    "first_list = [1,2,3,4,5,6,7,8,9,10]\n",
    "odd_list = list(filter(lambda x: x%2 != 0, first_list))\n",
    "odd_list"
   ]
  }
 ],
 "metadata": {
  "kernelspec": {
   "display_name": "Python 3",
   "language": "python",
   "name": "python3"
  },
  "language_info": {
   "codemirror_mode": {
    "name": "ipython",
    "version": 3
   },
   "file_extension": ".py",
   "mimetype": "text/x-python",
   "name": "python",
   "nbconvert_exporter": "python",
   "pygments_lexer": "ipython3",
   "version": "3.8.5"
  }
 },
 "nbformat": 4,
 "nbformat_minor": 4
}
